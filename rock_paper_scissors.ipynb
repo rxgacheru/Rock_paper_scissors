{
 "cells": [
  {
   "cell_type": "code",
   "execution_count": null,
   "metadata": {},
   "outputs": [],
   "source": [
    "options = ['rock', 'paper', 'scissors:']\n",
    "user1 = input('Enter either rock, paper or scissors')\n",
    "user2 = input('Enter either rock, paper or scissors')\n",
    "\n",
    "if user1 not in options:\n",
    "  print('Follow the instructions!!!!!!')\n",
    "\n",
    "if user2 not in options:\n",
    "  print('Follow the instructions!!!!!!')\n",
    "\n",
    "if user1 == user2:\n",
    "  print('It is a tie!')\n",
    "elif ( user1 == 'rock' and user2 == 'paper') or ( user1 == 'paper' and user2 == 'scissors') or ( user1 == 'scissors' and user2 == 'rock'):\n",
    "  print('Player 1 loses!')\n",
    "elif (user1 == 'rock' and user2 == 'scissors') or (user1 == 'paper' and user2 == 'rock') and (user1 == 'scissors' and user2 == 'paper'):\n",
    "  print('Player 2 wins!')"
   ]
  }
 ],
 "metadata": {
  "language_info": {
   "name": "python"
  }
 },
 "nbformat": 4,
 "nbformat_minor": 2
}
